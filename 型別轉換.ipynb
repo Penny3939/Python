{
 "cells": [
  {
   "cell_type": "markdown",
   "id": "37dd8a55",
   "metadata": {},
   "source": [
    "# 型別轉換\n",
    "說明:\n",
    "輸入為一串數字，每個數字間以一個空白隔開，數字長度不固定，請把這些數字每個各加1後輸出\n",
    "\n",
    "Input:1 2 3 4 5  \n",
    "Output:2 3 4 5 6"
   ]
  },
  {
   "cell_type": "code",
   "execution_count": null,
   "id": "e08a4e4e",
   "metadata": {},
   "outputs": [],
   "source": [
    "a = input().split()\n",
    "\n",
    "times=0\n",
    "\n",
    "while times< len(a):\n",
    "  answer = int(a[times])+1\n",
    "  print(answer,end= \" \")\n",
    "  times+=1"
   ]
  }
 ],
 "metadata": {
  "kernelspec": {
   "display_name": "Python 3 (ipykernel)",
   "language": "python",
   "name": "python3"
  },
  "language_info": {
   "codemirror_mode": {
    "name": "ipython",
    "version": 3
   },
   "file_extension": ".py",
   "mimetype": "text/x-python",
   "name": "python",
   "nbconvert_exporter": "python",
   "pygments_lexer": "ipython3",
   "version": "3.8.10"
  }
 },
 "nbformat": 4,
 "nbformat_minor": 5
}
