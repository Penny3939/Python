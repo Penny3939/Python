{
 "cells": [
  {
   "cell_type": "markdown",
   "id": "af024d74",
   "metadata": {},
   "source": [
    "# 樂透\n",
    "今天要設計一款能夠自動對獎的大樂透對獎程式，請試著想想看該如何完成!\n",
    "假設此樂透只可以選5個號碼，號碼介於1~20，只有再對中三個號碼以上時才算中獎，對中三個號碼即可得獎金100元，4個號碼獎金1000元，5個號碼獎金10000元\n",
    "\n",
    "說明:\n",
    "輸入會有兩\"組\"值，每組值之間用一個\",\"隔開，每一組值內含有5個數值，每個數值內以一個空白隔開，第一組值為玩家選擇的號碼，第二組值為開獎的號碼，請回傳最後獎金多少元，如果沒中獎即為0元\n",
    "\n",
    "Input: 1 2 3 4 5,1 2 3 4 5\n",
    "\n",
    "Output:10000"
   ]
  },
  {
   "cell_type": "code",
   "execution_count": null,
   "id": "bf2f8665",
   "metadata": {},
   "outputs": [],
   "source": [
    "sum=0\n",
    "if a1[0] in a2:\n",
    "  sum+=1\n",
    "if a1[1] in a2:\n",
    "  sum+=1\n",
    "if a1[2] in a2:\n",
    "  sum+=1\n",
    "if a1[3] in a2:\n",
    "  sum+=1\n",
    "if a1[4] in a2:\n",
    "  sum+=1\n",
    "\n",
    "if sum==3:\n",
    "  print(100)\n",
    "elif sum==4:\n",
    "  print(1000)\n",
    "elif sum==5:\n",
    "  print(10000)\n",
    "else:\n",
    "  print(0)"
   ]
  }
 ],
 "metadata": {
  "kernelspec": {
   "display_name": "Python 3 (ipykernel)",
   "language": "python",
   "name": "python3"
  },
  "language_info": {
   "codemirror_mode": {
    "name": "ipython",
    "version": 3
   },
   "file_extension": ".py",
   "mimetype": "text/x-python",
   "name": "python",
   "nbconvert_exporter": "python",
   "pygments_lexer": "ipython3",
   "version": "3.8.10"
  }
 },
 "nbformat": 4,
 "nbformat_minor": 5
}
