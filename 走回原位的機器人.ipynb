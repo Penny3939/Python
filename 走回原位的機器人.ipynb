{
 "cells": [
  {
   "cell_type": "markdown",
   "id": "1a2291ec",
   "metadata": {},
   "source": [
    "# 走回原位的機器人\n",
    "\n",
    "說明：機器人行走一步的指令包括 U、D、L、R 的 4 種內容（均為半型字），分別代表機器人向上一步（U）, 向下一步（D）, 向左一步（L）, 向右一步（R）。請判斷機器人走完輸入字串中的所有指令後，是否會正好回到出發點？\n",
    "\n",
    "輸出說明：如果機器人回到原位，輸出「Y」，否則輸出「N」。（均為大寫半型字）\n",
    "\n",
    "Input:UD  \n",
    "Output:Y"
   ]
  },
  {
   "cell_type": "code",
   "execution_count": null,
   "id": "11e19a4f",
   "metadata": {},
   "outputs": [],
   "source": [
    "方法一:\n",
    "a = input()\n",
    "\n",
    "times=0\n",
    "w = 0\n",
    "x = 0\n",
    "y = 0\n",
    "z = 0\n",
    "\n",
    "while times <len(a):\n",
    "  for check in a:\n",
    "    if \"U\" == check:\n",
    "      w += 1\n",
    "    elif \"D\" == check:\n",
    "      x -= 1\n",
    "    elif \"L\" == check:\n",
    "      y -= 1\n",
    "    elif \"R\" == check:\n",
    "      z += 1\n",
    "  \n",
    "    times+=1\n",
    "  \n",
    "answer = (w+x+y+z)\n",
    "if answer ==0:\n",
    "  print(\"Y\")\n",
    "else:\n",
    "  print(\"N\")"
   ]
  }
 ],
 "metadata": {
  "kernelspec": {
   "display_name": "Python 3 (ipykernel)",
   "language": "python",
   "name": "python3"
  },
  "language_info": {
   "codemirror_mode": {
    "name": "ipython",
    "version": 3
   },
   "file_extension": ".py",
   "mimetype": "text/x-python",
   "name": "python",
   "nbconvert_exporter": "python",
   "pygments_lexer": "ipython3",
   "version": "3.8.10"
  }
 },
 "nbformat": 4,
 "nbformat_minor": 5
}
