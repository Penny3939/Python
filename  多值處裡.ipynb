{
 "cells": [
  {
   "cell_type": "markdown",
   "id": "22b779d4",
   "metadata": {},
   "source": [
    "# 多值處裡\n",
    "說明:\n",
    "在平台解題時，大部分都是一次讀多筆資料，試著用迴圈處理看看，一次處理多筆資料\n",
    "題目給什麼，你就回復甚麼，但是必須加個流水號。\n",
    "\n",
    "Input:\n",
    "Hello\n",
    "World\n",
    "This\n",
    "is\n",
    "a\n",
    "question\n",
    "\n",
    "Output:\n",
    "Hello1\n",
    "World2\n",
    "This3\n",
    "is4\n",
    "a5\n",
    "question6"
   ]
  },
  {
   "cell_type": "code",
   "execution_count": null,
   "id": "7f75cedc",
   "metadata": {},
   "outputs": [],
   "source": [
    "import sys\n",
    "a=sys.stdin.read().splitlines()\n",
    "\n",
    "\n",
    "for i,answer in enumerate(a,start=0):\n",
    "  print(f\"{i}{answer}\")"
   ]
  }
 ],
 "metadata": {
  "kernelspec": {
   "display_name": "Python 3 (ipykernel)",
   "language": "python",
   "name": "python3"
  },
  "language_info": {
   "codemirror_mode": {
    "name": "ipython",
    "version": 3
   },
   "file_extension": ".py",
   "mimetype": "text/x-python",
   "name": "python",
   "nbconvert_exporter": "python",
   "pygments_lexer": "ipython3",
   "version": "3.8.10"
  }
 },
 "nbformat": 4,
 "nbformat_minor": 5
}
