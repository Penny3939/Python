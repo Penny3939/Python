{
 "cells": [
  {
   "cell_type": "markdown",
   "id": "487cee09",
   "metadata": {},
   "source": [
    "# 99乘法表"
   ]
  },
  {
   "cell_type": "code",
   "execution_count": null,
   "id": "a386fc0c",
   "metadata": {},
   "outputs": [],
   "source": [
    "num = input().split() #2 3 \n",
    "num1 = int(num[0])\n",
    "num2 = int(num[1])\n",
    "\n",
    "times_1 = 0\n",
    "\n",
    "while times_1 < num1:\n",
    "  times_2 = 0\n",
    "  while times_2 < num2:\n",
    "    print(f\"{times_1+1}*{times_2 +1} = {(times_1+1)*(times_2 +1)}\")\n",
    "    \n",
    "    times_2 += 1\n",
    "\n",
    "  times_1 += 1"
   ]
  }
 ],
 "metadata": {
  "kernelspec": {
   "display_name": "Python 3 (ipykernel)",
   "language": "python",
   "name": "python3"
  },
  "language_info": {
   "codemirror_mode": {
    "name": "ipython",
    "version": 3
   },
   "file_extension": ".py",
   "mimetype": "text/x-python",
   "name": "python",
   "nbconvert_exporter": "python",
   "pygments_lexer": "ipython3",
   "version": "3.8.10"
  }
 },
 "nbformat": 4,
 "nbformat_minor": 5
}
