{
 "cells": [
  {
   "cell_type": "markdown",
   "id": "5b25cc5c",
   "metadata": {},
   "source": [
    "# 簡易計算機\n",
    "說明:\n",
    "輸入為一組只有一個運算符號(+、-、*、/)的算式，且數字一定為\"整數\"，請輸出算式的答案\n",
    "注意! 輸入不會有任何的空白\n",
    "\n",
    "在做整數除法的時候，請直接無條件捨去至整數，不需要保留小數點\n",
    "ex: 5 / 5 = 1.0\n",
    "請輸出1\n",
    "\n",
    "Input:100+200\n",
    "Output:300"
   ]
  },
  {
   "cell_type": "code",
   "execution_count": null,
   "id": "9a5e5b10",
   "metadata": {},
   "outputs": [],
   "source": [
    "num =input()\n",
    "\n",
    "if \"+\" in num:\n",
    "  check=num.split(\"+\")\n",
    "  print(int(int(check[0]) + int(check[1])))\n",
    "elif \"-\" in num:\n",
    "  check=num.split(\"-\")\n",
    "  print(int(int(check[0]) - int(check[1])))\n",
    "elif \"*\" in num:\n",
    "  check=num.split(\"*\")\n",
    "  print(int(int(check[0]) * int(check[1])))\n",
    "elif \"/\" in num:\n",
    "  check=num.split(\"/\")\n",
    "  print(int(int(check[0]) / int(check[1])))"
   ]
  }
 ],
 "metadata": {
  "kernelspec": {
   "display_name": "Python 3 (ipykernel)",
   "language": "python",
   "name": "python3"
  },
  "language_info": {
   "codemirror_mode": {
    "name": "ipython",
    "version": 3
   },
   "file_extension": ".py",
   "mimetype": "text/x-python",
   "name": "python",
   "nbconvert_exporter": "python",
   "pygments_lexer": "ipython3",
   "version": "3.8.10"
  }
 },
 "nbformat": 4,
 "nbformat_minor": 5
}
