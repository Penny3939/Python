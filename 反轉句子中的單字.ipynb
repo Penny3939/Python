{
 "cells": [
  {
   "cell_type": "markdown",
   "id": "e7b58c52",
   "metadata": {},
   "source": [
    "# 反轉句子中的單字\n",
    "說明：\n",
    "保持英文句子中所有單字的順序, 也保留單字間的空白, 但每個單字的所有字母及符號全部反轉.\n",
    "輸入說明:\n",
    "輸入只有⼀⾏，其中含有⼀個正整數 ，代表⻄元年份。每個輸入的測試檔案，只有⼀筆測試資料。\n",
    "\n",
    "Input:Let’s take LeetCode contest\n",
    "Output:s’teL ekat edoCteeL tsetnoc"
   ]
  },
  {
   "cell_type": "code",
   "execution_count": null,
   "id": "e9e53c8b",
   "metadata": {},
   "outputs": [],
   "source": [
    "a = input().split()\n",
    "\n",
    "answer=[]\n",
    "times=0\n",
    "while times < len(a):\n",
    "  \n",
    "  check= a[times][::-1]\n",
    "  answer.append(check)\n",
    "  times+=1\n",
    "\n",
    "print(type(answer))\n",
    "print(answer)\n",
    "print(\" \".join(answer))"
   ]
  }
 ],
 "metadata": {
  "kernelspec": {
   "display_name": "Python 3 (ipykernel)",
   "language": "python",
   "name": "python3"
  },
  "language_info": {
   "codemirror_mode": {
    "name": "ipython",
    "version": 3
   },
   "file_extension": ".py",
   "mimetype": "text/x-python",
   "name": "python",
   "nbconvert_exporter": "python",
   "pygments_lexer": "ipython3",
   "version": "3.8.10"
  }
 },
 "nbformat": 4,
 "nbformat_minor": 5
}
