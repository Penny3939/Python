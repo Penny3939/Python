{
 "cells": [
  {
   "cell_type": "markdown",
   "id": "9ea69901",
   "metadata": {},
   "source": [
    "# 1-1 math套件"
   ]
  },
  {
   "cell_type": "code",
   "execution_count": 11,
   "id": "52883e94",
   "metadata": {
    "scrolled": true
   },
   "outputs": [
    {
     "name": "stdout",
     "output_type": "stream",
     "text": [
      "5\n",
      "2\n"
     ]
    }
   ],
   "source": [
    "import math\n",
    "a = int(input())\n",
    "num = math.ceil(a / 3)\n",
    "print(num)"
   ]
  },
  {
   "cell_type": "markdown",
   "id": "71212023",
   "metadata": {},
   "source": [
    "# 1-2 "
   ]
  },
  {
   "cell_type": "code",
   "execution_count": 13,
   "id": "c214c5ad",
   "metadata": {
    "scrolled": true
   },
   "outputs": [
    {
     "name": "stdout",
     "output_type": "stream",
     "text": [
      "1200\n",
      "5000\n"
     ]
    }
   ],
   "source": [
    "import math\n",
    "a = int(input())\n",
    "num = (a // 12) * 50\n",
    "num2 = (a % 12) * 5\n",
    "print(num + num2)"
   ]
  },
  {
   "cell_type": "markdown",
   "id": "218a8d5d",
   "metadata": {},
   "source": [
    "# 1-3"
   ]
  },
  {
   "cell_type": "code",
   "execution_count": 14,
   "id": "c4851a4d",
   "metadata": {
    "scrolled": true
   },
   "outputs": [
    {
     "name": "stdout",
     "output_type": "stream",
     "text": [
      "5\n",
      "\n",
      "*\n",
      "**\n",
      "***\n",
      "****\n",
      "*****\n"
     ]
    }
   ],
   "source": [
    "a = int(input())\n",
    "i=0\n",
    "\n",
    "while i<= a:\n",
    "  print(\"*\"*i)\n",
    "  i+=1"
   ]
  },
  {
   "cell_type": "markdown",
   "id": "8a653650",
   "metadata": {},
   "source": [
    "# 2-1 Input"
   ]
  },
  {
   "cell_type": "code",
   "execution_count": 4,
   "id": "b96da758",
   "metadata": {},
   "outputs": [
    {
     "name": "stdout",
     "output_type": "stream",
     "text": [
      "Jack\n",
      "hello, Jack\n"
     ]
    }
   ],
   "source": [
    "name = input()\n",
    "print(\"hello, {}\".format(name))"
   ]
  },
  {
   "cell_type": "markdown",
   "id": "fc506a86",
   "metadata": {},
   "source": [
    "# 2-2 My name is ___, it is ___ characters."
   ]
  },
  {
   "cell_type": "code",
   "execution_count": 3,
   "id": "8d1a1191",
   "metadata": {},
   "outputs": [
    {
     "name": "stdout",
     "output_type": "stream",
     "text": [
      "Penny\n",
      "My name is Penny, it is 5 characters.\n"
     ]
    }
   ],
   "source": [
    "name = input()\n",
    "name_len = len(name)\n",
    "print(f\"My name is {name}, it is {name_len} characters.\")"
   ]
  },
  {
   "cell_type": "markdown",
   "id": "fd3507c4",
   "metadata": {},
   "source": [
    "# 2-3 溫度(攝氏&華氏轉換)"
   ]
  },
  {
   "cell_type": "code",
   "execution_count": 6,
   "id": "0bb462b6",
   "metadata": {},
   "outputs": [
    {
     "name": "stdout",
     "output_type": "stream",
     "text": [
      "37\n",
      "2.778\n"
     ]
    }
   ],
   "source": [
    "a= int(input())\n",
    "weather=(5/9*(a-32))\n",
    "print(\"{:.3f}\".format(weather))"
   ]
  },
  {
   "cell_type": "markdown",
   "id": "1732dbe2",
   "metadata": {},
   "source": [
    "# 2-4 找出最大值"
   ]
  },
  {
   "cell_type": "code",
   "execution_count": 10,
   "id": "008c0f08",
   "metadata": {},
   "outputs": [
    {
     "name": "stdout",
     "output_type": "stream",
     "text": [
      "23 555 3 87\n",
      "555\n"
     ]
    }
   ],
   "source": [
    "num = input()\n",
    "num_sp= num.split()\n",
    "num_int = map(int,num_sp)\n",
    "num_max=max(num_int)\n",
    "print(num_max)"
   ]
  },
  {
   "cell_type": "markdown",
   "id": "7f53f89a",
   "metadata": {},
   "source": [
    "# 2-5 周長=半徑×2×圓周率(3.14)"
   ]
  },
  {
   "cell_type": "code",
   "execution_count": 2,
   "id": "d9b59c09",
   "metadata": {},
   "outputs": [
    {
     "name": "stdout",
     "output_type": "stream",
     "text": [
      "10\n",
      "62\n"
     ]
    }
   ],
   "source": [
    "a = int(input())\n",
    "b = int(a * 2 * 3.14)\n",
    "print(b)"
   ]
  }
 ],
 "metadata": {
  "kernelspec": {
   "display_name": "Python 3 (ipykernel)",
   "language": "python",
   "name": "python3"
  },
  "language_info": {
   "codemirror_mode": {
    "name": "ipython",
    "version": 3
   },
   "file_extension": ".py",
   "mimetype": "text/x-python",
   "name": "python",
   "nbconvert_exporter": "python",
   "pygments_lexer": "ipython3",
   "version": "3.8.10"
  }
 },
 "nbformat": 4,
 "nbformat_minor": 5
}
