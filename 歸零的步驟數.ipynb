{
 "cells": [
  {
   "cell_type": "markdown",
   "id": "e0b3349c",
   "metadata": {},
   "source": [
    "# 歸零的步驟數\n",
    "說明：\n",
    "假設輸入的整數存在 num 中。你的程式將重覆進行以下的動作：「若 num 是奇數就將它減 1，如果是偶數就將它減半」。如此反覆上述動作 n 次後，num 的值會變成 0。請問 n 的值至少為何？\n",
    "\n",
    "Input:14\n",
    "Output: 6\n",
    "14 → 7 → 6 → 3 → 2 → 1 → 0，共 6 次步驟。"
   ]
  },
  {
   "cell_type": "code",
   "execution_count": null,
   "id": "c29b7b3b",
   "metadata": {},
   "outputs": [],
   "source": [
    "a = int(input())\n",
    "\n",
    "i=2\n",
    "times = 0\n",
    "while a>0:\n",
    "  if a % i == 0:\n",
    "    a = a/2\n",
    "    times+=1\n",
    "\n",
    "  else:\n",
    "    a=a-1\n",
    "    times+=1\n",
    "print(times)"
   ]
  }
 ],
 "metadata": {
  "kernelspec": {
   "display_name": "Python 3 (ipykernel)",
   "language": "python",
   "name": "python3"
  },
  "language_info": {
   "codemirror_mode": {
    "name": "ipython",
    "version": 3
   },
   "file_extension": ".py",
   "mimetype": "text/x-python",
   "name": "python",
   "nbconvert_exporter": "python",
   "pygments_lexer": "ipython3",
   "version": "3.8.10"
  }
 },
 "nbformat": 4,
 "nbformat_minor": 5
}
