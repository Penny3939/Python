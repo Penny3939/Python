{
 "cells": [
  {
   "cell_type": "markdown",
   "id": "2ba5d80b",
   "metadata": {},
   "source": [
    "# 重複文字只保留一個\n",
    "說明：\n",
    "在輸入字串中，有些英文字母僅出現一次，也有些出現多次。你的程式會保留所有在輸入字串中僅出現一次的字母，但對於多次出現的字母將只保留「最後一個」，其他相同者均捨棄。你保留下來的字母之先後順序應與原字串的順序相同。\n",
    "\n",
    "Input:ABACDEAD  \n",
    "Output:BCEAD"
   ]
  },
  {
   "cell_type": "code",
   "execution_count": null,
   "id": "70a5e822",
   "metadata": {},
   "outputs": [],
   "source": [
    "a = input()\n",
    "\n",
    "num=[]\n",
    "\n",
    "for check in range(0,len(a)+1):\n",
    "  for s in a:\n",
    "    if s not in num:\n",
    "      num.append(s)\n",
    "    else:\n",
    "      num.remove(s)\n",
    "      num.append(s)\n",
    "\n",
    "print(\"\".join(num)) # why this type is list?\n",
    "print(type(num)) \n",
    "\n",
    "answer = \"\".join(num) # why this type is str?\n",
    "print(answer)\n",
    "print(type(answer))"
   ]
  }
 ],
 "metadata": {
  "kernelspec": {
   "display_name": "Python 3 (ipykernel)",
   "language": "python",
   "name": "python3"
  },
  "language_info": {
   "codemirror_mode": {
    "name": "ipython",
    "version": 3
   },
   "file_extension": ".py",
   "mimetype": "text/x-python",
   "name": "python",
   "nbconvert_exporter": "python",
   "pygments_lexer": "ipython3",
   "version": "3.8.10"
  }
 },
 "nbformat": 4,
 "nbformat_minor": 5
}
