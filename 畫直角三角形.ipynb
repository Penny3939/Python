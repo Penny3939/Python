{
 "cells": [
  {
   "cell_type": "markdown",
   "id": "26bbddd9",
   "metadata": {},
   "source": [
    "# 畫直角三角形\n",
    "說明：\n",
    "使用者會輸入一個大於或等於1的整數，按照數字輸出用星號畫出圖案\n",
    "\n",
    "input:2\n",
    "\n",
    "output:\n",
    "*\n",
    "**\n"
   ]
  },
  {
   "cell_type": "code",
   "execution_count": null,
   "id": "a2bc40c4",
   "metadata": {},
   "outputs": [],
   "source": [
    "a = int(input())\n",
    "\n",
    "times = 0\n",
    "while times<a:\n",
    "  print( \"*\"*(times+1))\n",
    "  times+=1"
   ]
  }
 ],
 "metadata": {
  "kernelspec": {
   "display_name": "Python 3 (ipykernel)",
   "language": "python",
   "name": "python3"
  },
  "language_info": {
   "codemirror_mode": {
    "name": "ipython",
    "version": 3
   },
   "file_extension": ".py",
   "mimetype": "text/x-python",
   "name": "python",
   "nbconvert_exporter": "python",
   "pygments_lexer": "ipython3",
   "version": "3.8.10"
  }
 },
 "nbformat": 4,
 "nbformat_minor": 5
}
