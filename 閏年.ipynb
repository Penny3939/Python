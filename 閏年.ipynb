{
 "cells": [
  {
   "cell_type": "markdown",
   "id": "a45c7447",
   "metadata": {},
   "source": [
    "# 閏年\n",
    "\n",
    "說明：\n",
    "⻄元年份除以4不可整除，為平年。False\n",
    "⻄元年份除以4可整除，且除以100不可整除，為閏年。True\n",
    "⻄元年份除以100可整除，且除以400不可整除，為平年。False\n",
    "⻄元年份除以400可整除，為閏年。True\n",
    "以下為舉例說明:\n",
    "除了不是400的倍數的100的倍數以外，四的倍數的年份均為閏年，閏年這年會多⼀天 (2⽉29\n",
    "⽇)。\n",
    "任何能以 4 整除的年份都是閏年：例如 1980 年、1984 年、1988 年、1992 年及 1996 年都是\n",
    "閏年。\n",
    "不過，仍必須將⼀個⼩錯誤列入考量。⻄曆規定能以 100 (例如1900 年) 整除的年份，同時也要\n",
    "能以 400 整除，才算是閏年。\n",
    "下列年份不是閏年：1700、1800、1900、2100、2200、2300、2500、2600。\n",
    "原因是這些年份能以 100 整除，但無法以 400 整除。\n",
    "下列年份為閏年：1600、2000、2400。\n",
    "閏年，請輸出「a leap year」，否則請輸出「a normal year」\n",
    "\n",
    "Input:1988\n",
    "Output:a leap year"
   ]
  },
  {
   "cell_type": "code",
   "execution_count": null,
   "id": "fa0fe5f7",
   "metadata": {},
   "outputs": [],
   "source": [
    "year = int(input())\n",
    "if year %4 ==0:\n",
    "  if year % 100 ==0:\n",
    "    if year %400==0:\n",
    "      print(\"閏年\")\n",
    "    else:\n",
    "      print(\"平年\")\n",
    "  else:\n",
    "    print(\"閏年\")\n",
    "else:\n",
    "  print(\"平年\")"
   ]
  }
 ],
 "metadata": {
  "kernelspec": {
   "display_name": "Python 3 (ipykernel)",
   "language": "python",
   "name": "python3"
  },
  "language_info": {
   "codemirror_mode": {
    "name": "ipython",
    "version": 3
   },
   "file_extension": ".py",
   "mimetype": "text/x-python",
   "name": "python",
   "nbconvert_exporter": "python",
   "pygments_lexer": "ipython3",
   "version": "3.8.10"
  }
 },
 "nbformat": 4,
 "nbformat_minor": 5
}
