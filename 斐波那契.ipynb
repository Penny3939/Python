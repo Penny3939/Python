{
 "cells": [
  {
   "cell_type": "markdown",
   "id": "a91cbb58",
   "metadata": {},
   "source": [
    "# 斐波那契 \n",
    "https://zh.wikipedia.org/wiki/%E6%96%90%E6%B3%A2%E9%82%A3%E5%A5%91%E6%95%B0\n",
    "\n",
    "起始條件，第一個數字為0，第二個數字為1，後面的數字為前面兩個數字的相加\n",
    "0 1 1 2 3 5 8 13 21 …\n",
    "\n",
    "說明:\n",
    "輸入唯一個數字i，請試試看印出指定數字的(以人類的索引直)第i個數字是多少\n",
    "\n",
    "Input:1  \n",
    "Output:0"
   ]
  },
  {
   "cell_type": "code",
   "execution_count": null,
   "id": "c75b086e",
   "metadata": {},
   "outputs": [],
   "source": [
    "a = int(input())\n",
    "\n",
    "times=0\n",
    "num1 = 0\n",
    "num2 =0\n",
    "\n",
    "while times <a:\n",
    "  if times==0:\n",
    "    num2=0\n",
    "    answer =0\n",
    "  elif times==1:\n",
    "    num1=1\n",
    "    answer = 1\n",
    "  else:\n",
    "    answer = num2+num1\n",
    "    num2=num1\n",
    "    num1=answer\n",
    "  times +=1\n",
    "print(answer)"
   ]
  }
 ],
 "metadata": {
  "kernelspec": {
   "display_name": "Python 3 (ipykernel)",
   "language": "python",
   "name": "python3"
  },
  "language_info": {
   "codemirror_mode": {
    "name": "ipython",
    "version": 3
   },
   "file_extension": ".py",
   "mimetype": "text/x-python",
   "name": "python",
   "nbconvert_exporter": "python",
   "pygments_lexer": "ipython3",
   "version": "3.8.10"
  }
 },
 "nbformat": 4,
 "nbformat_minor": 5
}
