{
 "cells": [
  {
   "cell_type": "markdown",
   "id": "6c80353f",
   "metadata": {},
   "source": [
    "# 範圍內最大質數\n",
    "說明：\n",
    "讓使用者輸入一個大於等於 2 的正整數後，程式輸出小於或等於該數的「最⼤質數」\n",
    "質數的定義：除了1跟他自己本身，沒有其他因數。\n",
    "\n",
    "Input:10\n",
    "Output:7"
   ]
  },
  {
   "cell_type": "code",
   "execution_count": null,
   "id": "6261a8db",
   "metadata": {},
   "outputs": [],
   "source": [
    "a = int(input())\n",
    "d = []\n",
    "\n",
    "for number in range(2,a+1) :\n",
    "  times = 2\n",
    "  while times< number:\n",
    "    if (number % times)==0:\n",
    "      break\n",
    "      \n",
    "    times+=1\n",
    "  if times==number:\n",
    "    d.append(number)\n",
    "print(max(d))\n"
   ]
  }
 ],
 "metadata": {
  "kernelspec": {
   "display_name": "Python 3 (ipykernel)",
   "language": "python",
   "name": "python3"
  },
  "language_info": {
   "codemirror_mode": {
    "name": "ipython",
    "version": 3
   },
   "file_extension": ".py",
   "mimetype": "text/x-python",
   "name": "python",
   "nbconvert_exporter": "python",
   "pygments_lexer": "ipython3",
   "version": "3.8.10"
  }
 },
 "nbformat": 4,
 "nbformat_minor": 5
}
